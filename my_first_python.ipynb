{
  "nbformat": 4,
  "nbformat_minor": 0,
  "metadata": {
    "colab": {
      "provenance": [],
      "authorship_tag": "ABX9TyMmy3pWJBH/9lcPySBgvM7t",
      "include_colab_link": true
    },
    "kernelspec": {
      "name": "python3",
      "display_name": "Python 3"
    },
    "language_info": {
      "name": "python"
    }
  },
  "cells": [
    {
      "cell_type": "markdown",
      "metadata": {
        "id": "view-in-github",
        "colab_type": "text"
      },
      "source": [
        "<a href=\"https://colab.research.google.com/github/mseki777/fullstack-nanodegree-vm/blob/master/my_first_python.ipynb\" target=\"_parent\"><img src=\"https://colab.research.google.com/assets/colab-badge.svg\" alt=\"Open In Colab\"/></a>"
      ]
    },
    {
      "cell_type": "code",
      "execution_count": null,
      "metadata": {
        "id": "Sq_POOkUdP-a"
      },
      "outputs": [],
      "source": [
        "\n",
        "\n",
        "num = 10\n",
        "if num > 10:\n",
        "    print \"num is 10.\"\n",
        "\n",
        "else:\n",
        "    print \"num is less\""
      ]
    },
    {
      "cell_type": "code",
      "source": [
        "num = 10\n",
        "\n",
        "if num > 10:\n",
        "\n",
        "    print(\"num is 10\") \n",
        "\n",
        "else:\n",
        "\n",
        "    print (\"num is less\")"
      ],
      "metadata": {
        "colab": {
          "base_uri": "https://localhost:8080/"
        },
        "id": "M_MA1sgteozO",
        "outputId": "d112d681-42ce-4d26-cf4d-a6edb0cb82e4"
      },
      "execution_count": 5,
      "outputs": [
        {
          "output_type": "stream",
          "name": "stdout",
          "text": [
            "num is less\n"
          ]
        }
      ]
    },
    {
      "cell_type": "markdown",
      "source": [
        "num = 10\n",
        "if num > 10:\n",
        "    print \"num is 10.\"\n",
        "\n",
        "else:\n",
        "    print \"num is less\""
      ],
      "metadata": {
        "id": "hvie7xtEePi5"
      }
    }
  ]
}